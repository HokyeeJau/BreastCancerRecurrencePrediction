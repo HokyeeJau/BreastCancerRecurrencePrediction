{
 "cells": [
  {
   "cell_type": "markdown",
   "metadata": {},
   "source": [
    "- Load Data\n",
    "- Prepare Model\n",
    "- Assess the Model"
   ]
  },
  {
   "cell_type": "code",
   "execution_count": 36,
   "metadata": {},
   "outputs": [],
   "source": [
    "import numpy as np\n",
    "import pandas as pd\n",
    "from keras.models import Sequential\n",
    "from keras.layers import Dense, Dropout\n",
    "from keras.wrappers. scikit_learn import KerasClassifier\n",
    "from keras.utils import np_utils\n",
    "\n",
    "from sklearn.model_selection import cross_val_score\n",
    "from sklearn.model_selection import KFold\n",
    "from sklearn.preprocessing import LabelEncoder\n",
    "from sklearn.pipeline import Pipeline"
   ]
  },
  {
   "cell_type": "code",
   "execution_count": 2,
   "metadata": {},
   "outputs": [],
   "source": [
    "import sys\n",
    "from data import *\n",
    "x = completeX()\n",
    "biny = binaryY()\n",
    "biny = biny.astype(np.int8)"
   ]
  },
  {
   "cell_type": "code",
   "execution_count": 3,
   "metadata": {},
   "outputs": [
    {
     "data": {
      "text/plain": [
       "(198, 43)"
      ]
     },
     "execution_count": 3,
     "metadata": {},
     "output_type": "execute_result"
    }
   ],
   "source": [
    "x.shape"
   ]
  },
  {
   "cell_type": "code",
   "execution_count": 8,
   "metadata": {},
   "outputs": [
    {
     "name": "stdout",
     "output_type": "stream",
     "text": [
      "Number of training samples: 159\n",
      "Number of validation samples: 39\n"
     ]
    }
   ],
   "source": [
    "from sklearn.model_selection import train_test_split\n",
    "num_val_samples = int((x.shape[0])*0.2)\n",
    "x_train, x_test, y_train, y_test = train_test_split(x, \n",
    "                                                    biny, \n",
    "                                                    test_size=num_val_samples, \n",
    "                                                    random_state=42)\n",
    "print(\"Number of training samples:\", len(x_train))\n",
    "print(\"Number of validation samples:\", len(x_test))"
   ]
  },
  {
   "cell_type": "code",
   "execution_count": 5,
   "metadata": {},
   "outputs": [
    {
     "data": {
      "text/plain": [
       "198"
      ]
     },
     "execution_count": 5,
     "metadata": {},
     "output_type": "execute_result"
    }
   ],
   "source": [
    "x.shape[0]"
   ]
  },
  {
   "cell_type": "code",
   "execution_count": 11,
   "metadata": {},
   "outputs": [],
   "source": [
    "counts = np.bincount(y_test)"
   ]
  },
  {
   "cell_type": "code",
   "execution_count": 18,
   "metadata": {},
   "outputs": [],
   "source": [
    "y = pd.DataFrame(biny)"
   ]
  },
  {
   "cell_type": "code",
   "execution_count": 21,
   "metadata": {},
   "outputs": [
    {
     "data": {
      "text/plain": [
       "array([0, 1], dtype=int8)"
      ]
     },
     "execution_count": 21,
     "metadata": {},
     "output_type": "execute_result"
    }
   ],
   "source": [
    "np.unique(y)"
   ]
  },
  {
   "cell_type": "code",
   "execution_count": 23,
   "metadata": {},
   "outputs": [],
   "source": [
    "from collections import Counter"
   ]
  },
  {
   "cell_type": "code",
   "execution_count": 24,
   "metadata": {},
   "outputs": [
    {
     "data": {
      "text/plain": [
       "Counter({0: 151, 1: 47})"
      ]
     },
     "execution_count": 24,
     "metadata": {},
     "output_type": "execute_result"
    }
   ],
   "source": [
    "Counter(biny)"
   ]
  },
  {
   "cell_type": "code",
   "execution_count": 29,
   "metadata": {},
   "outputs": [],
   "source": [
    "positive = biny[biny==1].shape[0]\n",
    "negative = biny[biny==0].shape[0]\n",
    "weight_for_0 = 1.0/negative\n",
    "weight_for_1 = 1.0/positive"
   ]
  },
  {
   "cell_type": "code",
   "execution_count": 34,
   "metadata": {},
   "outputs": [],
   "source": [
    "std = x_train.std(axis=0)\n",
    "mean = x_train.mean(axis=0)"
   ]
  },
  {
   "cell_type": "code",
   "execution_count": 35,
   "metadata": {},
   "outputs": [],
   "source": [
    "x_train = (x_train-mean)/std\n",
    "x_test = (x_test-mean)/std"
   ]
  },
  {
   "cell_type": "code",
   "execution_count": 44,
   "metadata": {},
   "outputs": [
    {
     "name": "stdout",
     "output_type": "stream",
     "text": [
      "Model: \"sequential_2\"\n",
      "_________________________________________________________________\n",
      "Layer (type)                 Output Shape              Param #   \n",
      "=================================================================\n",
      "dense_4 (Dense)              (None, 10)                440       \n",
      "_________________________________________________________________\n",
      "dense_5 (Dense)              (None, 10)                110       \n",
      "_________________________________________________________________\n",
      "dropout_2 (Dropout)          (None, 10)                0         \n",
      "_________________________________________________________________\n",
      "dense_6 (Dense)              (None, 1)                 11        \n",
      "=================================================================\n",
      "Total params: 561\n",
      "Trainable params: 561\n",
      "Non-trainable params: 0\n",
      "_________________________________________________________________\n"
     ]
    }
   ],
   "source": [
    "from tensorflow import keras\n",
    "\n",
    "model = keras.Sequential(\n",
    "    [\n",
    "        keras.layers.Dense(\n",
    "            10, activation=\"relu\", input_shape=(x_train.shape[-1],)\n",
    "        ),\n",
    "        keras.layers.Dense(10, activation=\"relu\"),\n",
    "        keras.layers.Dropout(0.3),\n",
    "        keras.layers.Dense(1, activation=\"sigmoid\"),\n",
    "    ]\n",
    ")\n",
    "model.summary()"
   ]
  },
  {
   "cell_type": "code",
   "execution_count": 45,
   "metadata": {},
   "outputs": [
    {
     "name": "stdout",
     "output_type": "stream",
     "text": [
      "WARNING:tensorflow:sample_weight modes were coerced from\n",
      "  ...\n",
      "    to  \n",
      "  ['...']\n",
      "WARNING:tensorflow:sample_weight modes were coerced from\n",
      "  ...\n",
      "    to  \n",
      "  ['...']\n",
      "Train on 159 samples, validate on 39 samples\n",
      "Epoch 1/10\n",
      "159/159 - 3s - loss: 0.0094 - fn: 39.0000 - fp: 1.0000 - tn: 118.0000 - tp: 1.0000 - precision: 0.5000 - recall: 0.0250 - val_loss: 0.0072 - val_fn: 7.0000 - val_fp: 0.0000e+00 - val_tn: 32.0000 - val_tp: 0.0000e+00 - val_precision: 0.0000e+00 - val_recall: 0.0000e+00\n",
      "Epoch 2/10\n",
      "159/159 - 0s - loss: 0.0084 - fn: 37.0000 - fp: 14.0000 - tn: 105.0000 - tp: 3.0000 - precision: 0.1765 - recall: 0.0750 - val_loss: 0.0068 - val_fn: 7.0000 - val_fp: 4.0000 - val_tn: 28.0000 - val_tp: 0.0000e+00 - val_precision: 0.0000e+00 - val_recall: 0.0000e+00\n",
      "Epoch 3/10\n",
      "159/159 - 0s - loss: 0.0079 - fn: 32.0000 - fp: 9.0000 - tn: 110.0000 - tp: 8.0000 - precision: 0.4706 - recall: 0.2000 - val_loss: 0.0066 - val_fn: 7.0000 - val_fp: 5.0000 - val_tn: 27.0000 - val_tp: 0.0000e+00 - val_precision: 0.0000e+00 - val_recall: 0.0000e+00\n",
      "Epoch 4/10\n",
      "159/159 - 0s - loss: 0.0077 - fn: 33.0000 - fp: 15.0000 - tn: 104.0000 - tp: 7.0000 - precision: 0.3182 - recall: 0.1750 - val_loss: 0.0065 - val_fn: 6.0000 - val_fp: 7.0000 - val_tn: 25.0000 - val_tp: 1.0000 - val_precision: 0.1250 - val_recall: 0.1429\n",
      "Epoch 5/10\n",
      "159/159 - 0s - loss: 0.0069 - fn: 25.0000 - fp: 25.0000 - tn: 94.0000 - tp: 15.0000 - precision: 0.3750 - recall: 0.3750 - val_loss: 0.0064 - val_fn: 5.0000 - val_fp: 7.0000 - val_tn: 25.0000 - val_tp: 2.0000 - val_precision: 0.2222 - val_recall: 0.2857\n",
      "Epoch 6/10\n",
      "159/159 - 0s - loss: 0.0066 - fn: 21.0000 - fp: 30.0000 - tn: 89.0000 - tp: 19.0000 - precision: 0.3878 - recall: 0.4750 - val_loss: 0.0064 - val_fn: 4.0000 - val_fp: 10.0000 - val_tn: 22.0000 - val_tp: 3.0000 - val_precision: 0.2308 - val_recall: 0.4286\n",
      "Epoch 7/10\n",
      "159/159 - 0s - loss: 0.0063 - fn: 17.0000 - fp: 34.0000 - tn: 85.0000 - tp: 23.0000 - precision: 0.4035 - recall: 0.5750 - val_loss: 0.0064 - val_fn: 2.0000 - val_fp: 9.0000 - val_tn: 23.0000 - val_tp: 5.0000 - val_precision: 0.3571 - val_recall: 0.7143\n",
      "Epoch 8/10\n",
      "159/159 - 0s - loss: 0.0062 - fn: 15.0000 - fp: 35.0000 - tn: 84.0000 - tp: 25.0000 - precision: 0.4167 - recall: 0.6250 - val_loss: 0.0063 - val_fn: 2.0000 - val_fp: 10.0000 - val_tn: 22.0000 - val_tp: 5.0000 - val_precision: 0.3333 - val_recall: 0.7143\n",
      "Epoch 9/10\n",
      "159/159 - 0s - loss: 0.0060 - fn: 12.0000 - fp: 41.0000 - tn: 78.0000 - tp: 28.0000 - precision: 0.4058 - recall: 0.7000 - val_loss: 0.0063 - val_fn: 2.0000 - val_fp: 11.0000 - val_tn: 21.0000 - val_tp: 5.0000 - val_precision: 0.3125 - val_recall: 0.7143\n",
      "Epoch 10/10\n",
      "159/159 - 0s - loss: 0.0059 - fn: 8.0000 - fp: 45.0000 - tn: 74.0000 - tp: 32.0000 - precision: 0.4156 - recall: 0.8000 - val_loss: 0.0062 - val_fn: 2.0000 - val_fp: 11.0000 - val_tn: 21.0000 - val_tp: 5.0000 - val_precision: 0.3125 - val_recall: 0.7143\n"
     ]
    },
    {
     "data": {
      "text/plain": [
       "<tensorflow.python.keras.callbacks.History at 0x147f62790>"
      ]
     },
     "execution_count": 45,
     "metadata": {},
     "output_type": "execute_result"
    }
   ],
   "source": [
    "metrics = [\n",
    "    keras.metrics.FalseNegatives(name=\"fn\"),\n",
    "    keras.metrics.FalsePositives(name=\"fp\"),\n",
    "    keras.metrics.TrueNegatives(name=\"tn\"),\n",
    "    keras.metrics.TruePositives(name=\"tp\"),\n",
    "    keras.metrics.Precision(name=\"precision\"),\n",
    "    keras.metrics.Recall(name=\"recall\"),\n",
    "]\n",
    "\n",
    "model.compile(\n",
    "    optimizer=keras.optimizers.Adam(1e-2), loss=\"binary_crossentropy\", metrics=metrics\n",
    ")\n",
    "\n",
    "callbacks = [keras.callbacks.ModelCheckpoint(\"fraud_model_at_epoch_{epoch}.h5\")]\n",
    "class_weight = {0: weight_for_0, 1: weight_for_1}\n",
    "\n",
    "model.fit(\n",
    "    x_train,\n",
    "    y_train,\n",
    "    batch_size=2048,\n",
    "    epochs=10,\n",
    "    verbose=2,\n",
    "    callbacks=callbacks,\n",
    "    validation_data=(x_test, y_test),\n",
    "    class_weight=class_weight,\n",
    ")"
   ]
  },
  {
   "cell_type": "code",
   "execution_count": null,
   "metadata": {},
   "outputs": [],
   "source": []
  }
 ],
 "metadata": {
  "kernelspec": {
   "display_name": "Python 3",
   "language": "python",
   "name": "python3"
  },
  "language_info": {
   "codemirror_mode": {
    "name": "ipython",
    "version": 3
   },
   "file_extension": ".py",
   "mimetype": "text/x-python",
   "name": "python",
   "nbconvert_exporter": "python",
   "pygments_lexer": "ipython3",
   "version": "3.7.4"
  }
 },
 "nbformat": 4,
 "nbformat_minor": 4
}
